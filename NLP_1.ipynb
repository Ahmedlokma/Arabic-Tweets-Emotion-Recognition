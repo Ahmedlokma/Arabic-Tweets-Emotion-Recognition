{
  "nbformat": 4,
  "nbformat_minor": 0,
  "metadata": {
    "colab": {
      "provenance": []
    },
    "kernelspec": {
      "name": "python3",
      "display_name": "Python 3"
    },
    "language_info": {
      "name": "python"
    }
  },
  "cells": [
    {
      "cell_type": "code",
      "source": [
        "import joblib\n",
        "from google.colab import drive\n",
        "\n",
        "# Mount Google Drive\n",
        "drive.mount('/content/drive')"
      ],
      "metadata": {
        "id": "M1T78zNAr4U-",
        "outputId": "3037869a-449e-430b-a01f-896ce85608df",
        "colab": {
          "base_uri": "https://localhost:8080/"
        }
      },
      "execution_count": null,
      "outputs": [
        {
          "output_type": "stream",
          "name": "stdout",
          "text": [
            "Mounted at /content/drive\n"
          ]
        }
      ]
    },
    {
      "cell_type": "code",
      "execution_count": null,
      "metadata": {
        "id": "O1V7NveLshRj",
        "colab": {
          "base_uri": "https://localhost:8080/",
          "height": 206
        },
        "outputId": "c254e349-931b-4b05-99fb-a9b9f2d9008a"
      },
      "outputs": [
        {
          "output_type": "execute_result",
          "data": {
            "text/plain": [
              "                                            sentence sentiment  \\\n",
              "0                        دامك مع #غناتي ، فالك طيب 👍  positive   \n",
              "1  على الفطرة السليمه.. الله يعطيه الصحة والعافية...  positive   \n",
              "2          📷 مشجع هلالي ينبذ العنصرية ب لافته أعدها.  positive   \n",
              "3  سبحان الله🌸 الحمدلله 💮 لا اله الا الله 🌿 الله ...  positive   \n",
              "4          مشاركتي في مبادراتكم الجميلة فوز وسعادة 💞  positive   \n",
              "\n",
              "                                       cleaned_tweet  \n",
              "0                                    دمك غنت فلك طيب  \n",
              "1       فطر سلم الله يعط صحه عفي سكر طبل لحق باب قفل  \n",
              "2                           شجع هلل نبذ عنصر لفت اعد  \n",
              "3  الله حمدلل اله الله الله كبر غفر الله وتب الله...  \n",
              "4                                شرك بدر جمل فوز سعد  "
            ],
            "text/html": [
              "\n",
              "  <div id=\"df-c4f3b0d6-c20d-4f24-af6a-715d7117e860\">\n",
              "    <div class=\"colab-df-container\">\n",
              "      <div>\n",
              "<style scoped>\n",
              "    .dataframe tbody tr th:only-of-type {\n",
              "        vertical-align: middle;\n",
              "    }\n",
              "\n",
              "    .dataframe tbody tr th {\n",
              "        vertical-align: top;\n",
              "    }\n",
              "\n",
              "    .dataframe thead th {\n",
              "        text-align: right;\n",
              "    }\n",
              "</style>\n",
              "<table border=\"1\" class=\"dataframe\">\n",
              "  <thead>\n",
              "    <tr style=\"text-align: right;\">\n",
              "      <th></th>\n",
              "      <th>sentence</th>\n",
              "      <th>sentiment</th>\n",
              "      <th>cleaned_tweet</th>\n",
              "    </tr>\n",
              "  </thead>\n",
              "  <tbody>\n",
              "    <tr>\n",
              "      <th>0</th>\n",
              "      <td>دامك مع #غناتي ، فالك طيب 👍</td>\n",
              "      <td>positive</td>\n",
              "      <td>دمك غنت فلك طيب</td>\n",
              "    </tr>\n",
              "    <tr>\n",
              "      <th>1</th>\n",
              "      <td>على الفطرة السليمه.. الله يعطيه الصحة والعافية...</td>\n",
              "      <td>positive</td>\n",
              "      <td>فطر سلم الله يعط صحه عفي سكر طبل لحق باب قفل</td>\n",
              "    </tr>\n",
              "    <tr>\n",
              "      <th>2</th>\n",
              "      <td>📷 مشجع هلالي ينبذ العنصرية ب لافته أعدها.</td>\n",
              "      <td>positive</td>\n",
              "      <td>شجع هلل نبذ عنصر لفت اعد</td>\n",
              "    </tr>\n",
              "    <tr>\n",
              "      <th>3</th>\n",
              "      <td>سبحان الله🌸 الحمدلله 💮 لا اله الا الله 🌿 الله ...</td>\n",
              "      <td>positive</td>\n",
              "      <td>الله حمدلل اله الله الله كبر غفر الله وتب الله...</td>\n",
              "    </tr>\n",
              "    <tr>\n",
              "      <th>4</th>\n",
              "      <td>مشاركتي في مبادراتكم الجميلة فوز وسعادة 💞</td>\n",
              "      <td>positive</td>\n",
              "      <td>شرك بدر جمل فوز سعد</td>\n",
              "    </tr>\n",
              "  </tbody>\n",
              "</table>\n",
              "</div>\n",
              "      <button class=\"colab-df-convert\" onclick=\"convertToInteractive('df-c4f3b0d6-c20d-4f24-af6a-715d7117e860')\"\n",
              "              title=\"Convert this dataframe to an interactive table.\"\n",
              "              style=\"display:none;\">\n",
              "        \n",
              "  <svg xmlns=\"http://www.w3.org/2000/svg\" height=\"24px\"viewBox=\"0 0 24 24\"\n",
              "       width=\"24px\">\n",
              "    <path d=\"M0 0h24v24H0V0z\" fill=\"none\"/>\n",
              "    <path d=\"M18.56 5.44l.94 2.06.94-2.06 2.06-.94-2.06-.94-.94-2.06-.94 2.06-2.06.94zm-11 1L8.5 8.5l.94-2.06 2.06-.94-2.06-.94L8.5 2.5l-.94 2.06-2.06.94zm10 10l.94 2.06.94-2.06 2.06-.94-2.06-.94-.94-2.06-.94 2.06-2.06.94z\"/><path d=\"M17.41 7.96l-1.37-1.37c-.4-.4-.92-.59-1.43-.59-.52 0-1.04.2-1.43.59L10.3 9.45l-7.72 7.72c-.78.78-.78 2.05 0 2.83L4 21.41c.39.39.9.59 1.41.59.51 0 1.02-.2 1.41-.59l7.78-7.78 2.81-2.81c.8-.78.8-2.07 0-2.86zM5.41 20L4 18.59l7.72-7.72 1.47 1.35L5.41 20z\"/>\n",
              "  </svg>\n",
              "      </button>\n",
              "      \n",
              "  <style>\n",
              "    .colab-df-container {\n",
              "      display:flex;\n",
              "      flex-wrap:wrap;\n",
              "      gap: 12px;\n",
              "    }\n",
              "\n",
              "    .colab-df-convert {\n",
              "      background-color: #E8F0FE;\n",
              "      border: none;\n",
              "      border-radius: 50%;\n",
              "      cursor: pointer;\n",
              "      display: none;\n",
              "      fill: #1967D2;\n",
              "      height: 32px;\n",
              "      padding: 0 0 0 0;\n",
              "      width: 32px;\n",
              "    }\n",
              "\n",
              "    .colab-df-convert:hover {\n",
              "      background-color: #E2EBFA;\n",
              "      box-shadow: 0px 1px 2px rgba(60, 64, 67, 0.3), 0px 1px 3px 1px rgba(60, 64, 67, 0.15);\n",
              "      fill: #174EA6;\n",
              "    }\n",
              "\n",
              "    [theme=dark] .colab-df-convert {\n",
              "      background-color: #3B4455;\n",
              "      fill: #D2E3FC;\n",
              "    }\n",
              "\n",
              "    [theme=dark] .colab-df-convert:hover {\n",
              "      background-color: #434B5C;\n",
              "      box-shadow: 0px 1px 3px 1px rgba(0, 0, 0, 0.15);\n",
              "      filter: drop-shadow(0px 1px 2px rgba(0, 0, 0, 0.3));\n",
              "      fill: #FFFFFF;\n",
              "    }\n",
              "  </style>\n",
              "\n",
              "      <script>\n",
              "        const buttonEl =\n",
              "          document.querySelector('#df-c4f3b0d6-c20d-4f24-af6a-715d7117e860 button.colab-df-convert');\n",
              "        buttonEl.style.display =\n",
              "          google.colab.kernel.accessAllowed ? 'block' : 'none';\n",
              "\n",
              "        async function convertToInteractive(key) {\n",
              "          const element = document.querySelector('#df-c4f3b0d6-c20d-4f24-af6a-715d7117e860');\n",
              "          const dataTable =\n",
              "            await google.colab.kernel.invokeFunction('convertToInteractive',\n",
              "                                                     [key], {});\n",
              "          if (!dataTable) return;\n",
              "\n",
              "          const docLinkHtml = 'Like what you see? Visit the ' +\n",
              "            '<a target=\"_blank\" href=https://colab.research.google.com/notebooks/data_table.ipynb>data table notebook</a>'\n",
              "            + ' to learn more about interactive tables.';\n",
              "          element.innerHTML = '';\n",
              "          dataTable['output_type'] = 'display_data';\n",
              "          await google.colab.output.renderOutput(dataTable, element);\n",
              "          const docLink = document.createElement('div');\n",
              "          docLink.innerHTML = docLinkHtml;\n",
              "          element.appendChild(docLink);\n",
              "        }\n",
              "      </script>\n",
              "    </div>\n",
              "  </div>\n",
              "  "
            ]
          },
          "metadata": {},
          "execution_count": 2
        }
      ],
      "source": [
        "import pandas as pd\n",
        "df = pd.read_csv(\"/content/output2-3.csv\")\n",
        "df.head()"
      ]
    },
    {
      "cell_type": "markdown",
      "source": [
        "# **Pipeline**"
      ],
      "metadata": {
        "id": "esBW_ffHr6lu"
      }
    },
    {
      "cell_type": "code",
      "source": [
        "import csv\n",
        "\n",
        "def read_clean_tweets(filename):\n",
        "    \"\"\"\n",
        "    Read a CSV file and extract a column called \"clean_tweet\" into a list.\n",
        "    \n",
        "    Args:\n",
        "    filename - string representing the name of the CSV file\n",
        "    \n",
        "    Returns:\n",
        "    clean_tweets - list of strings representing clean tweets\n",
        "    \"\"\"\n",
        "    clean_tweets = []\n",
        "\n",
        "    with open(\"/content/output2-3.csv\", 'r', encoding='utf-8') as csvfile:\n",
        "        reader = csv.DictReader(csvfile)\n",
        "        for row in reader:\n",
        "            clean_tweet = row['cleaned_tweet']\n",
        "            clean_tweets.append(clean_tweet)\n",
        "            \n",
        "    return clean_tweets"
      ],
      "metadata": {
        "id": "RjLXbyYOtBZH"
      },
      "execution_count": null,
      "outputs": []
    },
    {
      "cell_type": "code",
      "source": [
        "from sklearn.feature_extraction.text import TfidfVectorizer\n",
        "\n",
        "def extract_features(data):\n",
        "    \"\"\"\n",
        "    Extract TF-IDF features from preprocessed text data.\n",
        "    \n",
        "    Args:\n",
        "    data - list of preprocessed text data\n",
        "    \n",
        "    Returns:\n",
        "    feature_matrix - sparse matrix of TF-IDF features\n",
        "    \"\"\"\n",
        "    # Initialize TfidfVectorizer object\n",
        "    tfidf_vectorizer = TfidfVectorizer(max_df=0.9, min_df=5, ngram_range=(1, 2))\n",
        "\n",
        "    # Fit and transform data to obtain feature matrix\n",
        "    feature_matrix = tfidf_vectorizer.fit_transform(data)\n",
        "\n",
        "    return feature_matrix"
      ],
      "metadata": {
        "id": "Suyq5vJxtEbG"
      },
      "execution_count": null,
      "outputs": []
    },
    {
      "cell_type": "code",
      "source": [
        "import csv\n",
        "\n",
        "def read_sentiment_labels(filename):\n",
        "    \"\"\"\n",
        "    Read a CSV file and extract a column called \"sentiment\" into a list.\n",
        "    \n",
        "    Args:\n",
        "    filename - string representing the name of the CSV file\n",
        "    \n",
        "    Returns:\n",
        "    sentiment_labels - list of strings representing sentiment labels\n",
        "    \"\"\"\n",
        "    sentiment_labels = []\n",
        "\n",
        "    with open(filename, 'r', encoding='utf-8') as csvfile:\n",
        "        reader = csv.DictReader(csvfile)\n",
        "        for row in reader:\n",
        "            sentiment_label = row['sentiment']\n",
        "            sentiment_labels.append(sentiment_label)\n",
        "\n",
        "    return sentiment_labels"
      ],
      "metadata": {
        "id": "4apbvT1GtJ30"
      },
      "execution_count": null,
      "outputs": []
    },
    {
      "cell_type": "code",
      "source": [
        "xx = read_clean_tweets(\"/content/output2-3.csv\")\n",
        "X = extract_features(xx)\n",
        "y = read_sentiment_labels(\"/content/output2-3.csv\")\n",
        "# print(z)"
      ],
      "metadata": {
        "id": "m4HjgC5btZp7"
      },
      "execution_count": null,
      "outputs": []
    },
    {
      "cell_type": "markdown",
      "source": [
        "# **Naive Bayes**"
      ],
      "metadata": {
        "id": "uzxzf7P6r_2N"
      }
    },
    {
      "cell_type": "code",
      "source": [
        "from sklearn.svm import SVC\n",
        "from sklearn.model_selection import train_test_split"
      ],
      "metadata": {
        "id": "jM91z1Bwtcqo"
      },
      "execution_count": null,
      "outputs": []
    },
    {
      "cell_type": "code",
      "source": [
        "from sklearn.model_selection import train_test_split\n",
        "from sklearn.naive_bayes import MultinomialNB"
      ],
      "metadata": {
        "id": "ICAVTENRtfoO"
      },
      "execution_count": null,
      "outputs": []
    },
    {
      "cell_type": "code",
      "source": [
        "X_train, X_test, y_train, y_test = train_test_split(X, y, test_size=0.2, random_state=42)\n",
        "\n",
        "# Train a Naive Bayes model on the training data\n",
        "nb = MultinomialNB()\n",
        "nb.fit(X_train, y_train)\n",
        "\n",
        "# Evaluate the performance of the Naive Bayes model on the test data\n",
        "accuracy = nb.score(X_test, y_test)\n",
        "print(\"Accuracy:\", accuracy)"
      ],
      "metadata": {
        "colab": {
          "base_uri": "https://localhost:8080/"
        },
        "id": "OTZQe9Ejth9s",
        "outputId": "85af5e9a-a594-4996-bf3a-8dbbeceff499"
      },
      "execution_count": null,
      "outputs": [
        {
          "output_type": "stream",
          "name": "stdout",
          "text": [
            "Accuracy: 0.7692962301080759\n"
          ]
        }
      ]
    },
    {
      "cell_type": "code",
      "source": [
        "from sklearn.metrics import classification_report"
      ],
      "metadata": {
        "id": "4XkHV2ijw5qD"
      },
      "execution_count": null,
      "outputs": []
    },
    {
      "cell_type": "code",
      "source": [
        "from sklearn.model_selection import GridSearchCV"
      ],
      "metadata": {
        "id": "MgGmcfoKxhdx"
      },
      "execution_count": null,
      "outputs": []
    },
    {
      "cell_type": "code",
      "source": [
        "# Split data into training and testing sets\n",
        "X_train, X_test, y_train, y_test = train_test_split(X, y, test_size=0.2, random_state=42)\n",
        "\n",
        "# Define the parameter grid to search over\n",
        "param_grid = {'alpha': [0.1, 0.5, 1.0, 2.0]}\n",
        "\n",
        "# Create a grid search object\n",
        "grid = GridSearchCV(estimator=MultinomialNB(), param_grid=param_grid, cv=5, scoring='accuracy')\n",
        "\n",
        "# Fit the grid search object to the training data\n",
        "grid.fit(X_train, y_train)\n",
        "\n",
        "# Print the best hyperparameters and accuracy score\n",
        "print(\"Best hyperparameters:\", grid.best_params_)\n",
        "print(\"Accuracy:\", grid.best_score_)\n",
        "y_pred = nb.predict(X_test)\n",
        "report = classification_report(y_test, y_pred, target_names=['positive', 'negative'])\n",
        "print(report)"
      ],
      "metadata": {
        "colab": {
          "base_uri": "https://localhost:8080/"
        },
        "id": "BTqEbbErw2RZ",
        "outputId": "8771d48a-b80b-450d-916a-107c005852b5"
      },
      "execution_count": null,
      "outputs": [
        {
          "output_type": "stream",
          "name": "stderr",
          "text": [
            "/usr/local/lib/python3.10/dist-packages/sklearn/model_selection/_split.py:700: UserWarning: The least populated class in y has only 1 members, which is less than n_splits=5.\n",
            "  warnings.warn(\n"
          ]
        },
        {
          "output_type": "stream",
          "name": "stdout",
          "text": [
            "Best hyperparameters: {'alpha': 0.1}\n",
            "Accuracy: 0.7641325096696368\n",
            "              precision    recall  f1-score   support\n",
            "\n",
            "    positive       0.75      0.79      0.77      5823\n",
            "    negative       0.79      0.74      0.76      5928\n",
            "\n",
            "    accuracy                           0.77     11751\n",
            "   macro avg       0.77      0.77      0.77     11751\n",
            "weighted avg       0.77      0.77      0.77     11751\n",
            "\n"
          ]
        }
      ]
    },
    {
      "cell_type": "code",
      "source": [
        "from sklearn.model_selection import train_test_split\n",
        "from sklearn.naive_bayes import MultinomialNB\n",
        "\n",
        "# Split the data into training and test sets\n",
        "X_train, X_test, y_train, y_test = train_test_split(X, y, test_size=0.2, random_state=42)\n",
        "\n",
        "# Train a Naive Bayes model on the training data with alpha=0.1\n",
        "nb = MultinomialNB(alpha=0.1)\n",
        "nb.fit(X_train, y_train)\n",
        "\n",
        "# Evaluate the performance of the Naive Bayes model on the test data\n",
        "accuracy = nb.score(X_test, y_test)\n",
        "print(\"Accuracy:\", accuracy)\n",
        "joblib.dump(nb, '/content/drive/MyDrive/nb_model.sav')"
      ],
      "metadata": {
        "id": "z-qNVCy_zCmj",
        "colab": {
          "base_uri": "https://localhost:8080/"
        },
        "outputId": "3c97a765-d32e-4b1d-8634-bde4daeb8a54"
      },
      "execution_count": null,
      "outputs": [
        {
          "output_type": "stream",
          "name": "stdout",
          "text": [
            "Accuracy: 0.7724448983065271\n"
          ]
        },
        {
          "output_type": "execute_result",
          "data": {
            "text/plain": [
              "['/content/drive/MyDrive/nb_model.sav']"
            ]
          },
          "metadata": {},
          "execution_count": 13
        }
      ]
    },
    {
      "cell_type": "markdown",
      "source": [
        "# **Decision Tree**"
      ],
      "metadata": {
        "id": "R--HbwoTsIME"
      }
    },
    {
      "cell_type": "code",
      "source": [
        "from sklearn.tree import DecisionTreeClassifier"
      ],
      "metadata": {
        "id": "emwRL4OtzwUd"
      },
      "execution_count": null,
      "outputs": []
    },
    {
      "cell_type": "code",
      "source": [
        "from sklearn.metrics import precision_recall_fscore_support, classification_report"
      ],
      "metadata": {
        "id": "aQutHUpT0m_-"
      },
      "execution_count": null,
      "outputs": []
    },
    {
      "cell_type": "code",
      "source": [
        "X_train, X_test, y_train, y_test = train_test_split(X, y, test_size=0.2, random_state=42)\n",
        "\n",
        "# Define the parameter grid\n",
        "param_grid = {'criterion': ['gini', 'entropy'], 'max_depth': [None, 5, 10, 20], 'min_samples_split': [2, 5, 10]}\n",
        "\n",
        "# Create a Decision Tree model\n",
        "dtc = DecisionTreeClassifier()\n",
        "\n",
        "# Use GridSearchCV to find the best hyperparameters\n",
        "grid_search = GridSearchCV(dtc, param_grid, cv=5)\n",
        "grid_search.fit(X_train, y_train)\n",
        "\n",
        "# Get the best hyperparameters\n",
        "best_params = grid_search.best_params_\n",
        "\n",
        "# Train a Decision Tree model on the training data using the best hyperparameters\n",
        "dtc = DecisionTreeClassifier(**best_params)\n",
        "dtc.fit(X_train, y_train)\n",
        "\n",
        "# Make predictions on the test data\n",
        "y_pred = dtc.predict(X_test)\n",
        "\n",
        "# Calculate precision, recall, and F1-score for each class\n",
        "precision, recall, f1, _ = precision_recall_fscore_support(y_test, y_pred, average='weighted')\n",
        "\n",
        "# Print the results\n",
        "print(\"Precision:\", precision)\n",
        "print(\"Recall:\", recall)\n",
        "print(\"F1-score:\", f1)\n",
        "\n",
        "# Print classification report\n",
        "report = classification_report(y_test, y_pred, target_names=['positive', 'negative'])\n",
        "print(report)\n",
        "print(\"Best hyperparameters:\", grid.best_params_)"
      ],
      "metadata": {
        "colab": {
          "base_uri": "https://localhost:8080/"
        },
        "id": "orxmy19gzzGV",
        "outputId": "9ab2ca9d-7401-4cec-e971-817c3efb96fe"
      },
      "execution_count": null,
      "outputs": [
        {
          "output_type": "stream",
          "name": "stderr",
          "text": [
            "/usr/local/lib/python3.10/dist-packages/sklearn/model_selection/_split.py:700: UserWarning: The least populated class in y has only 1 members, which is less than n_splits=5.\n",
            "  warnings.warn(\n"
          ]
        },
        {
          "output_type": "stream",
          "name": "stdout",
          "text": [
            "Precision: 0.7738435129110838\n",
            "Recall: 0.773806484554506\n",
            "F1-score: 0.7738109893253728\n",
            "              precision    recall  f1-score   support\n",
            "\n",
            "    positive       0.77      0.78      0.77      5823\n",
            "    negative       0.78      0.77      0.77      5928\n",
            "\n",
            "    accuracy                           0.77     11751\n",
            "   macro avg       0.77      0.77      0.77     11751\n",
            "weighted avg       0.77      0.77      0.77     11751\n",
            "\n",
            "Best hyperparameters: {'alpha': 0.1}\n"
          ]
        }
      ]
    },
    {
      "cell_type": "code",
      "source": [
        "print(best_params)"
      ],
      "metadata": {
        "colab": {
          "base_uri": "https://localhost:8080/"
        },
        "id": "l3o_RPRo8FG8",
        "outputId": "6fc36ec6-7dca-4147-959b-f55ea9b2cb5a"
      },
      "execution_count": null,
      "outputs": [
        {
          "output_type": "stream",
          "name": "stdout",
          "text": [
            "{'criterion': 'gini', 'max_depth': None, 'min_samples_split': 2}\n"
          ]
        }
      ]
    },
    {
      "cell_type": "code",
      "source": [
        "from sklearn.model_selection import train_test_split\n",
        "from sklearn.tree import DecisionTreeClassifier\n",
        "from sklearn.metrics import precision_recall_fscore_support, classification_report\n",
        "\n",
        "# Split the data into training and test sets\n",
        "X_train, X_test, y_train, y_test = train_test_split(X, y, test_size=0.2, random_state=42)\n",
        "\n",
        "# Create a Decision Tree model with the specified parameters\n",
        "dtc = DecisionTreeClassifier(criterion='gini', max_depth=None, min_samples_split=5)\n",
        "\n",
        "# Train the Decision Tree model on the training data\n",
        "dtc.fit(X_train, y_train)\n",
        "\n",
        "# Make predictions on the test data\n",
        "y_pred = dtc.predict(X_test)\n",
        "\n",
        "# Calculate precision, recall, and F1-score for each class\n",
        "precision, recall, f1, _ = precision_recall_fscore_support(y_test, y_pred, average='weighted')\n",
        "print(\"Precision:\", precision)\n",
        "print(\"Recall:\", recall)\n",
        "print(\"F1-score:\", f1)\n",
        "\n",
        "# Print classification report\n",
        "report = classification_report(y_test, y_pred, target_names=['positive', 'negative'])\n",
        "print(report)\n",
        "joblib.dump(dtc, '/content/drive/MyDrive/dtc_model.sav')"
      ],
      "metadata": {
        "id": "t_74fakGx-S5",
        "colab": {
          "base_uri": "https://localhost:8080/"
        },
        "outputId": "798b8264-67cd-4455-c688-ba65c7ef5011"
      },
      "execution_count": null,
      "outputs": [
        {
          "output_type": "stream",
          "name": "stdout",
          "text": [
            "Precision: 0.7690694324934731\n",
            "Recall: 0.7690409326865799\n",
            "F1-score: 0.7690453584448285\n",
            "              precision    recall  f1-score   support\n",
            "\n",
            "    positive       0.77      0.77      0.77      5823\n",
            "    negative       0.77      0.77      0.77      5928\n",
            "\n",
            "    accuracy                           0.77     11751\n",
            "   macro avg       0.77      0.77      0.77     11751\n",
            "weighted avg       0.77      0.77      0.77     11751\n",
            "\n"
          ]
        },
        {
          "output_type": "execute_result",
          "data": {
            "text/plain": [
              "['/content/drive/MyDrive/dtc_model.sav']"
            ]
          },
          "metadata": {},
          "execution_count": 18
        }
      ]
    },
    {
      "cell_type": "markdown",
      "source": [
        "# **SVM**"
      ],
      "metadata": {
        "id": "F1yZn1ZXsj27"
      }
    },
    {
      "cell_type": "code",
      "source": [
        "from sklearn.svm import SVC\n",
        "from sklearn.model_selection import train_test_split\n",
        "from sklearn.metrics import precision_recall_fscore_support\n",
        "\n",
        "X_train, X_test, y_train, y_test = train_test_split(X, y, test_size=0.2, random_state=42)\n",
        "\n",
        "# Train an SVM model on the training data\n",
        "svm = SVC(kernel='linear')\n",
        "svm.fit(X_train, y_train)\n",
        "\n",
        "# Evaluate the performance of the SVM model on the test data\n",
        "accuracy = svm.score(X_test, y_test)\n",
        "print(\"Accuracy:\", accuracy)\n",
        "y_pred = svm.predict(X_test)\n",
        "\n",
        "# Calculate precision, recall, and F1-score for each class\n",
        "precision, recall, f1, _ = precision_recall_fscore_support(y_test, y_pred, average='weighted')\n",
        "\n",
        "# Print the results\n",
        "print(\"Precision:\", precision)\n",
        "print(\"Recall:\", recall)\n",
        "print(\"F1-score:\", f1)\n",
        "y_pred = svm.predict(X_test)\n",
        "\n",
        "# Calculate precision, recall, and F1-score for each class\n",
        "precision, recall, f1, _ = precision_recall_fscore_support(y_test, y_pred, average='weighted')\n",
        "\n",
        "\n",
        "report = classification_report(y_test, y_pred, target_names=['positive', 'negative'])\n",
        "joblib.dump(svm, '/content/drive/MyDrive/svm_model.sav')"
      ],
      "metadata": {
        "id": "BBqBoiduxsnC",
        "colab": {
          "base_uri": "https://localhost:8080/"
        },
        "outputId": "8bdb0ad1-f46d-4243-c0f1-7ad09db83f8b"
      },
      "execution_count": null,
      "outputs": [
        {
          "output_type": "stream",
          "name": "stdout",
          "text": [
            "Accuracy: 0.7792528295464216\n",
            "Precision: 0.7798518184812077\n",
            "Recall: 0.7792528295464216\n",
            "F1-score: 0.779193600964281\n"
          ]
        },
        {
          "output_type": "execute_result",
          "data": {
            "text/plain": [
              "['/content/drive/MyDrive/svm_model.sav']"
            ]
          },
          "metadata": {},
          "execution_count": 19
        }
      ]
    }
  ]
}
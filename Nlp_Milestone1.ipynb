{
  "cells": [
    {
      "cell_type": "code",
      "execution_count": null,
      "metadata": {
        "id": "J-1NrJd85vFG"
      },
      "outputs": [],
      "source": [
        "import pandas as pd"
      ]
    },
    {
      "cell_type": "code",
      "execution_count": null,
      "metadata": {
        "colab": {
          "base_uri": "https://localhost:8080/",
          "height": 201
        },
        "id": "jjgBY_co6h8Q",
        "outputId": "8e5c22bc-8fe2-40e8-af48-0b8fa06fca69"
      },
      "outputs": [
        {
          "data": {
            "text/html": [
              "\n",
              "  <div id=\"df-ebc57f19-602e-497a-925b-41627dcef031\">\n",
              "    <div class=\"colab-df-container\">\n",
              "      <div>\n",
              "<style scoped>\n",
              "    .dataframe tbody tr th:only-of-type {\n",
              "        vertical-align: middle;\n",
              "    }\n",
              "\n",
              "    .dataframe tbody tr th {\n",
              "        vertical-align: top;\n",
              "    }\n",
              "\n",
              "    .dataframe thead th {\n",
              "        text-align: right;\n",
              "    }\n",
              "</style>\n",
              "<table border=\"1\" class=\"dataframe\">\n",
              "  <thead>\n",
              "    <tr style=\"text-align: right;\">\n",
              "      <th></th>\n",
              "      <th>sentence</th>\n",
              "      <th>sentiment</th>\n",
              "    </tr>\n",
              "  </thead>\n",
              "  <tbody>\n",
              "    <tr>\n",
              "      <th>0</th>\n",
              "      <td>دامك مع #غناتي ، فالك طيب 👍</td>\n",
              "      <td>positive</td>\n",
              "    </tr>\n",
              "    <tr>\n",
              "      <th>1</th>\n",
              "      <td>على الفطرة السليمه.. الله يعطيه الصحة والعافية...</td>\n",
              "      <td>positive</td>\n",
              "    </tr>\n",
              "    <tr>\n",
              "      <th>2</th>\n",
              "      <td>📷 مشجع هلالي ينبذ العنصرية ب لافته أعدها.</td>\n",
              "      <td>positive</td>\n",
              "    </tr>\n",
              "    <tr>\n",
              "      <th>3</th>\n",
              "      <td>سبحان الله🌸 الحمدلله 💮 لا اله الا الله 🌿 الله ...</td>\n",
              "      <td>positive</td>\n",
              "    </tr>\n",
              "    <tr>\n",
              "      <th>4</th>\n",
              "      <td>مشاركتي في مبادراتكم الجميلة فوز وسعادة 💞</td>\n",
              "      <td>positive</td>\n",
              "    </tr>\n",
              "  </tbody>\n",
              "</table>\n",
              "</div>\n",
              "      <button class=\"colab-df-convert\" onclick=\"convertToInteractive('df-ebc57f19-602e-497a-925b-41627dcef031')\"\n",
              "              title=\"Convert this dataframe to an interactive table.\"\n",
              "              style=\"display:none;\">\n",
              "        \n",
              "  <svg xmlns=\"http://www.w3.org/2000/svg\" height=\"24px\"viewBox=\"0 0 24 24\"\n",
              "       width=\"24px\">\n",
              "    <path d=\"M0 0h24v24H0V0z\" fill=\"none\"/>\n",
              "    <path d=\"M18.56 5.44l.94 2.06.94-2.06 2.06-.94-2.06-.94-.94-2.06-.94 2.06-2.06.94zm-11 1L8.5 8.5l.94-2.06 2.06-.94-2.06-.94L8.5 2.5l-.94 2.06-2.06.94zm10 10l.94 2.06.94-2.06 2.06-.94-2.06-.94-.94-2.06-.94 2.06-2.06.94z\"/><path d=\"M17.41 7.96l-1.37-1.37c-.4-.4-.92-.59-1.43-.59-.52 0-1.04.2-1.43.59L10.3 9.45l-7.72 7.72c-.78.78-.78 2.05 0 2.83L4 21.41c.39.39.9.59 1.41.59.51 0 1.02-.2 1.41-.59l7.78-7.78 2.81-2.81c.8-.78.8-2.07 0-2.86zM5.41 20L4 18.59l7.72-7.72 1.47 1.35L5.41 20z\"/>\n",
              "  </svg>\n",
              "      </button>\n",
              "      \n",
              "  <style>\n",
              "    .colab-df-container {\n",
              "      display:flex;\n",
              "      flex-wrap:wrap;\n",
              "      gap: 12px;\n",
              "    }\n",
              "\n",
              "    .colab-df-convert {\n",
              "      background-color: #E8F0FE;\n",
              "      border: none;\n",
              "      border-radius: 50%;\n",
              "      cursor: pointer;\n",
              "      display: none;\n",
              "      fill: #1967D2;\n",
              "      height: 32px;\n",
              "      padding: 0 0 0 0;\n",
              "      width: 32px;\n",
              "    }\n",
              "\n",
              "    .colab-df-convert:hover {\n",
              "      background-color: #E2EBFA;\n",
              "      box-shadow: 0px 1px 2px rgba(60, 64, 67, 0.3), 0px 1px 3px 1px rgba(60, 64, 67, 0.15);\n",
              "      fill: #174EA6;\n",
              "    }\n",
              "\n",
              "    [theme=dark] .colab-df-convert {\n",
              "      background-color: #3B4455;\n",
              "      fill: #D2E3FC;\n",
              "    }\n",
              "\n",
              "    [theme=dark] .colab-df-convert:hover {\n",
              "      background-color: #434B5C;\n",
              "      box-shadow: 0px 1px 3px 1px rgba(0, 0, 0, 0.15);\n",
              "      filter: drop-shadow(0px 1px 2px rgba(0, 0, 0, 0.3));\n",
              "      fill: #FFFFFF;\n",
              "    }\n",
              "  </style>\n",
              "\n",
              "      <script>\n",
              "        const buttonEl =\n",
              "          document.querySelector('#df-ebc57f19-602e-497a-925b-41627dcef031 button.colab-df-convert');\n",
              "        buttonEl.style.display =\n",
              "          google.colab.kernel.accessAllowed ? 'block' : 'none';\n",
              "\n",
              "        async function convertToInteractive(key) {\n",
              "          const element = document.querySelector('#df-ebc57f19-602e-497a-925b-41627dcef031');\n",
              "          const dataTable =\n",
              "            await google.colab.kernel.invokeFunction('convertToInteractive',\n",
              "                                                     [key], {});\n",
              "          if (!dataTable) return;\n",
              "\n",
              "          const docLinkHtml = 'Like what you see? Visit the ' +\n",
              "            '<a target=\"_blank\" href=https://colab.research.google.com/notebooks/data_table.ipynb>data table notebook</a>'\n",
              "            + ' to learn more about interactive tables.';\n",
              "          element.innerHTML = '';\n",
              "          dataTable['output_type'] = 'display_data';\n",
              "          await google.colab.output.renderOutput(dataTable, element);\n",
              "          const docLink = document.createElement('div');\n",
              "          docLink.innerHTML = docLinkHtml;\n",
              "          element.appendChild(docLink);\n",
              "        }\n",
              "      </script>\n",
              "    </div>\n",
              "  </div>\n",
              "  "
            ],
            "text/plain": [
              "                                            sentence sentiment\n",
              "0                        دامك مع #غناتي ، فالك طيب 👍  positive\n",
              "1  على الفطرة السليمه.. الله يعطيه الصحة والعافية...  positive\n",
              "2          📷 مشجع هلالي ينبذ العنصرية ب لافته أعدها.  positive\n",
              "3  سبحان الله🌸 الحمدلله 💮 لا اله الا الله 🌿 الله ...  positive\n",
              "4          مشاركتي في مبادراتكم الجميلة فوز وسعادة 💞  positive"
            ]
          },
          "execution_count": 2,
          "metadata": {},
          "output_type": "execute_result"
        }
      ],
      "source": [
        "df = pd.read_csv(\"/content/output.csv\")\n",
        "df.head()"
      ]
    },
    {
      "cell_type": "code",
      "execution_count": null,
      "metadata": {
        "colab": {
          "base_uri": "https://localhost:8080/"
        },
        "id": "Dv5Ipcxp6mI6",
        "outputId": "dbd0587a-c435-4214-ddf3-f9abad11da99"
      },
      "outputs": [
        {
          "name": "stdout",
          "output_type": "stream",
          "text": [
            "<class 'pandas.core.frame.DataFrame'>\n",
            "RangeIndex: 58752 entries, 0 to 58751\n",
            "Data columns (total 2 columns):\n",
            " #   Column     Non-Null Count  Dtype \n",
            "---  ------     --------------  ----- \n",
            " 0   sentence   58751 non-null  object\n",
            " 1   sentiment  58752 non-null  object\n",
            "dtypes: object(2)\n",
            "memory usage: 918.1+ KB\n"
          ]
        }
      ],
      "source": [
        "df.info()"
      ]
    },
    {
      "cell_type": "code",
      "execution_count": null,
      "metadata": {
        "id": "KfkED5kJ7U6y"
      },
      "outputs": [],
      "source": [
        "df = df.dropna(axis=0,subset= ['sentence','sentiment'])"
      ]
    },
    {
      "cell_type": "code",
      "execution_count": null,
      "metadata": {
        "colab": {
          "base_uri": "https://localhost:8080/"
        },
        "id": "EZ3C1Ox57fGb",
        "outputId": "74229192-7288-4038-c063-f55db5e22aa9"
      },
      "outputs": [
        {
          "name": "stdout",
          "output_type": "stream",
          "text": [
            "<class 'pandas.core.frame.DataFrame'>\n",
            "Int64Index: 58751 entries, 0 to 58751\n",
            "Data columns (total 2 columns):\n",
            " #   Column     Non-Null Count  Dtype \n",
            "---  ------     --------------  ----- \n",
            " 0   sentence   58751 non-null  object\n",
            " 1   sentiment  58751 non-null  object\n",
            "dtypes: object(2)\n",
            "memory usage: 1.3+ MB\n"
          ]
        }
      ],
      "source": [
        "df.info()"
      ]
    },
    {
      "cell_type": "code",
      "execution_count": null,
      "metadata": {
        "colab": {
          "base_uri": "https://localhost:8080/"
        },
        "id": "rnZyX60Z7wDX",
        "outputId": "075c17d5-f6b9-4002-89ed-ad3396858344"
      },
      "outputs": [
        {
          "name": "stdout",
          "output_type": "stream",
          "text": [
            "على الفطرة السليمه.. الله يعطيه الصحة والعافية 😂 سكر الطبلون .. واللحق على الباب لا يقفله\n"
          ]
        }
      ],
      "source": [
        "tweet = df.iloc[1]['sentence']\n",
        "print(tweet)"
      ]
    },
    {
      "cell_type": "code",
      "execution_count": null,
      "metadata": {
        "colab": {
          "base_uri": "https://localhost:8080/",
          "height": 34
        },
        "id": "eDmZswQr748b",
        "outputId": "8f0217d2-98be-487a-ca00-72bd7d3e2d68"
      },
      "outputs": [
        {
          "data": {
            "application/vnd.google.colaboratory.intrinsic+json": {
              "type": "string"
            },
            "text/plain": [
              "'على الفطرة السليمه.. الله يعطيه الصحة والعافية  سكر الطبلون .. واللحق على الباب لا يقفله'"
            ]
          },
          "execution_count": 7,
          "metadata": {},
          "output_type": "execute_result"
        }
      ],
      "source": [
        "import re\n",
        "\n",
        "def remove_emojis(text):\n",
        "    emoji_pattern = re.compile(\"[\"\n",
        "                               u\"\\U0001F600-\\U0001F64F\"  # emoticons\n",
        "                               u\"\\U0001F300-\\U0001F5FF\"  # symbols & pictographs\n",
        "                               u\"\\U0001F680-\\U0001F6FF\"  # transport & map symbols\n",
        "                               u\"\\U0001F1E0-\\U0001F1FF\"  # flags (iOS)\n",
        "                               u\"\\U00002702-\\U000027B0\"\n",
        "                               u\"\\U000024C2-\\U0001F251\"\n",
        "                               \"]+\", flags=re.UNICODE)\n",
        "    return emoji_pattern.sub(r'', text)\n",
        "remove_emojis(df.iloc[1]['sentence'])"
      ]
    },
    {
      "cell_type": "code",
      "execution_count": null,
      "metadata": {
        "colab": {
          "base_uri": "https://localhost:8080/"
        },
        "id": "VBKn-fS98D9_",
        "outputId": "0b601294-e3eb-4e8e-f383-5f398416dee3"
      },
      "outputs": [
        {
          "name": "stderr",
          "output_type": "stream",
          "text": [
            "[nltk_data] Downloading package punkt to /root/nltk_data...\n",
            "[nltk_data]   Unzipping tokenizers/punkt.zip.\n"
          ]
        },
        {
          "name": "stdout",
          "output_type": "stream",
          "text": [
            "['على', 'الفطرة', 'السليمه', '..', 'الله', 'يعطيه', 'الصحة', 'والعافية', '😂', 'سكر', 'الطبلون', '..', 'واللحق', 'على', 'الباب', 'لا', 'يقفله']\n"
          ]
        }
      ],
      "source": [
        "import nltk\n",
        "nltk.download('punkt')\n",
        "\n",
        "def tokenize_tweet(tweet):\n",
        " \n",
        "    tokens = nltk.word_tokenize(tweet)\n",
        "  \n",
        "    return tokens\n",
        "\n",
        "\n",
        "tweet = df.iloc[1]['sentence']\n",
        "tokens = tokenize_tweet(tweet)\n",
        "print(tokens)"
      ]
    },
    {
      "cell_type": "code",
      "execution_count": null,
      "metadata": {
        "id": "huH3dtMx8Pcw"
      },
      "outputs": [],
      "source": [
        "import re\n",
        "\n",
        "def remove_punctuation(tokens):\n",
        "    # Remove punctuation from the tokens using a regular expression\n",
        "    no_punct_tokens = [re.sub(r'[^a-zA-Z؀-ۿ]', '', token) for token in tokens]\n",
        "    \n",
        "    # Remove any empty tokens using a loop\n",
        "    new_tokens = []\n",
        "    for token in no_punct_tokens:\n",
        "        if token:\n",
        "            new_tokens.append(token)\n",
        "    no_punct_tokens = new_tokens\n",
        "    \n",
        "    return no_punct_tokens\n"
      ]
    },
    {
      "cell_type": "code",
      "execution_count": null,
      "metadata": {
        "colab": {
          "base_uri": "https://localhost:8080/"
        },
        "id": "G7Csug8M84sq",
        "outputId": "be5142a3-9793-4239-b9bb-a5e86bfe0cd5"
      },
      "outputs": [
        {
          "data": {
            "text/plain": [
              "['على',\n",
              " 'الفطرة',\n",
              " 'السليمه',\n",
              " 'الله',\n",
              " 'يعطيه',\n",
              " 'الصحة',\n",
              " 'والعافية',\n",
              " 'سكر',\n",
              " 'الطبلون',\n",
              " 'واللحق',\n",
              " 'على',\n",
              " 'الباب',\n",
              " 'لا',\n",
              " 'يقفله']"
            ]
          },
          "execution_count": 10,
          "metadata": {},
          "output_type": "execute_result"
        }
      ],
      "source": [
        "tweet = df.iloc[1]['sentence']\n",
        "tokens = tokenize_tweet(tweet)\n",
        "remove_punctuation(tokens)"
      ]
    },
    {
      "cell_type": "code",
      "execution_count": null,
      "metadata": {
        "id": "NccVLSPO9Byk"
      },
      "outputs": [],
      "source": [
        "def remove_stopwords(tokens, stopword_file):\n",
        "    with open(stopword_file, 'r', encoding='utf-8') as f:\n",
        "        stop_words = f.read().splitlines()\n",
        "\n",
        "    no_stopword_tokens = []\n",
        "    for token in tokens:\n",
        "        if token not in stop_words:\n",
        "            no_stopword_tokens.append(token)\n",
        "    return no_stopword_tokens\n",
        "\n"
      ]
    },
    {
      "cell_type": "code",
      "execution_count": null,
      "metadata": {
        "colab": {
          "base_uri": "https://localhost:8080/"
        },
        "id": "MMoq_lQ4BR7Y",
        "outputId": "cf9cf5e5-ad66-4fcf-a7fd-3a7cd1f9f2a3"
      },
      "outputs": [
        {
          "name": "stdout",
          "output_type": "stream",
          "text": [
            "['الفطرة', 'السليمه', 'الله', 'يعطيه', 'الصحة', 'والعافية', 'سكر', 'الطبلون', 'واللحق', 'الباب', 'يقفله']\n"
          ]
        }
      ],
      "source": [
        "tweet = df.iloc[1]['sentence']\n",
        "tokens = tokenize_tweet(tweet)\n",
        "no_punct_tokens = remove_punctuation(tokens)\n",
        "no_stopword_tokens = remove_stopwords(no_punct_tokens, '/content/list.txt')\n",
        "print(no_stopword_tokens)"
      ]
    },
    {
      "cell_type": "code",
      "execution_count": null,
      "metadata": {
        "id": "1TYbjkrmB8cs"
      },
      "outputs": [],
      "source": [
        "from nltk.stem.isri import ISRIStemmer\n",
        "\n",
        "\n",
        "def stem_tokens(tokens):\n",
        "   \n",
        "    stemmer = ISRIStemmer()\n",
        "    \n",
        "    exclude_list = ['قلب', 'رحمة', 'أمل', 'حزن', 'سعادة', 'جمال', 'شجاعة', 'تفاؤل', 'يقين', 'تضامن',\n",
        "                    'حرية', 'عدالة', 'إنسانية', 'عزيمة', 'وفاء', 'إخلاص', 'صدق', 'شفاء', 'دعاء', 'الله']\n",
        "    \n",
        "    stemmed_tokens = [stemmer.stem(token) if token not in exclude_list else token for token in tokens]\n",
        "    return stemmed_tokens\n",
        "\n"
      ]
    },
    {
      "cell_type": "code",
      "execution_count": null,
      "metadata": {
        "colab": {
          "base_uri": "https://localhost:8080/"
        },
        "id": "qmqTAwwGGTJ9",
        "outputId": "969a7464-d71b-408c-b9dc-4753f7c2f66d"
      },
      "outputs": [
        {
          "name": "stdout",
          "output_type": "stream",
          "text": [
            "أحب القطط والكلاب\n"
          ]
        }
      ],
      "source": [
        "import re\n",
        "\n",
        "def clean_tweet2(tweet):\n",
        "    # Remove mentions (@username)\n",
        "    tweet = re.sub(r\"@[A-Za-z0-9_]+\", \"\", tweet)\n",
        "    # Remove retweets (RT)\n",
        "    tweet = re.sub(r\"RT\\s+\", \"\", tweet)\n",
        "    # Remove URLs (http or https)\n",
        "    tweet = re.sub(r\"https?://[A-Za-z0-9./]+\", \"\", tweet)\n",
        "    # Remove any remaining non-Arabic characters\n",
        "    tweet = re.sub(r\"[^؀-ۿ]+\", \" \", tweet)\n",
        "    # Remove extra whitespace\n",
        "    tweet = re.sub(r\"\\s+\", \" \", tweet.strip())\n",
        "    return tweet\n",
        "y = \"RT @example_user: أحب القطط والكلاب https://t.co/1234abcd #pets #animals @friend_username\"\n",
        "    \n",
        "x = clean_tweet2(y)\n",
        "\n",
        "print(x)"
      ]
    },
    {
      "cell_type": "code",
      "execution_count": null,
      "metadata": {
        "colab": {
          "base_uri": "https://localhost:8080/",
          "height": 307
        },
        "id": "tU3FJG0HArTs",
        "outputId": "ab27ae92-173b-4b86-ad69-f1bda4b6dca3"
      },
      "outputs": [
        {
          "ename": "ModuleNotFoundError",
          "evalue": "ignored",
          "output_type": "error",
          "traceback": [
            "\u001b[0;31m---------------------------------------------------------------------------\u001b[0m",
            "\u001b[0;31mModuleNotFoundError\u001b[0m                       Traceback (most recent call last)",
            "\u001b[0;32m<ipython-input-15-a6cc1f3bb44a>\u001b[0m in \u001b[0;36m<cell line: 2>\u001b[0;34m()\u001b[0m\n\u001b[1;32m      1\u001b[0m \u001b[0;32mimport\u001b[0m \u001b[0mre\u001b[0m\u001b[0;34m\u001b[0m\u001b[0;34m\u001b[0m\u001b[0m\n\u001b[0;32m----> 2\u001b[0;31m \u001b[0;32mimport\u001b[0m \u001b[0mpyarabic\u001b[0m\u001b[0;34m.\u001b[0m\u001b[0maraby\u001b[0m \u001b[0;32mas\u001b[0m \u001b[0maraby\u001b[0m\u001b[0;34m\u001b[0m\u001b[0;34m\u001b[0m\u001b[0m\n\u001b[0m",
            "\u001b[0;31mModuleNotFoundError\u001b[0m: No module named 'pyarabic'",
            "",
            "\u001b[0;31m---------------------------------------------------------------------------\u001b[0;32m\nNOTE: If your import is failing due to a missing package, you can\nmanually install dependencies using either !pip or !apt.\n\nTo view examples of installing some common dependencies, click the\n\"Open Examples\" button below.\n\u001b[0;31m---------------------------------------------------------------------------\u001b[0m\n"
          ]
        }
      ],
      "source": [
        "import re\n",
        "import pyarabic.araby as araby\n"
      ]
    },
    {
      "cell_type": "code",
      "execution_count": null,
      "metadata": {
        "colab": {
          "base_uri": "https://localhost:8080/"
        },
        "id": "UOGwZ9TiCi2S",
        "outputId": "baad814e-dc98-495f-b340-5d58fd8c4745"
      },
      "outputs": [
        {
          "name": "stdout",
          "output_type": "stream",
          "text": [
            "Looking in indexes: https://pypi.org/simple, https://us-python.pkg.dev/colab-wheels/public/simple/\n",
            "Collecting pyarabic\n",
            "  Downloading PyArabic-0.6.15-py3-none-any.whl (126 kB)\n",
            "\u001b[2K     \u001b[90m━━━━━━━━━━━━━━━━━━━━━━━━━━━━━━━━━━━━━━━\u001b[0m \u001b[32m126.4/126.4 kB\u001b[0m \u001b[31m5.9 MB/s\u001b[0m eta \u001b[36m0:00:00\u001b[0m\n",
            "\u001b[?25hRequirement already satisfied: six>=1.14.0 in /usr/local/lib/python3.10/dist-packages (from pyarabic) (1.16.0)\n",
            "Installing collected packages: pyarabic\n",
            "Successfully installed pyarabic-0.6.15\n"
          ]
        }
      ],
      "source": [
        "pip install pyarabic\n"
      ]
    },
    {
      "cell_type": "code",
      "execution_count": null,
      "metadata": {
        "id": "wBZYYRWtXKLA"
      },
      "outputs": [],
      "source": [
        "def clean_tweet(tweet):\n",
        "    tweet = normalize_hamza(tweet)\n",
        "    tweet = strip_tatweel(tweet)\n",
        "    tweet = strip_tashkeel(tweet)\n",
        "\n",
        "\n",
        "    tweet = re.sub(\"[ًٌٍَُِّْٰ]\", \"\", tweet)\n",
        "    tweet = re.sub(\"[إأٱآا]\", \"ا\", tweet)\n",
        "    tweet = re.sub(\"ى\", \"ي\", tweet)\n",
        "    tweet = re.sub(\"ؤ\", \"ء\", tweet)\n",
        "    tweet = re.sub(\"ئ\", \"ء\", tweet)\n",
        "    tweet = re.sub(\"ة\", \"ه\", tweet)\n",
        "    noise = re.compile(\"\"\" ّ    | # Tashdid\n",
        "                             َ    | # Fatha\n",
        "                             ً    | # Tanwin Fath\n",
        "                             ُ    | # Damma\n",
        "                             ٌ    | # Tanwin Damm\n",
        "                             ِ    | # Kasra\n",
        "                             ٍ    | # Tanwin Kasr\n",
        "                             ْ    | # Sukun\n",
        "                             ـ     # Tatwil/Kashida\n",
        "                         \"\"\", re.VERBOSE)\n",
        "    text = re.sub(noise, '', tweet)\n",
        "    tweet = tweet.lower()\n",
        "    return tweet"
      ]
    },
    {
      "cell_type": "code",
      "execution_count": null,
      "metadata": {
        "id": "BQTAfFpqTfV5"
      },
      "outputs": [],
      "source": [
        "import re\n",
        "\n",
        "\n",
        "from pyarabic.araby import strip_tashkeel, strip_tatweel\n"
      ]
    },
    {
      "cell_type": "code",
      "execution_count": null,
      "metadata": {
        "id": "M9-p38BOTtQM"
      },
      "outputs": [],
      "source": [
        "def normalize_hamza(text):\n",
        "    \"\"\"Normalize Alef with Hamza Above and Alef with Hamza Below to Alef\"\"\"\n",
        "    text = re.sub(\"[أإآا]\", \"ا\", text)\n",
        "    return text\n"
      ]
    },
    {
      "cell_type": "code",
      "execution_count": null,
      "metadata": {
        "colab": {
          "base_uri": "https://localhost:8080/"
        },
        "id": "fFjIB5jaB9tn",
        "outputId": "b15532ee-ac7d-49f4-d6d1-4b0ddb1e09f9"
      },
      "outputs": [
        {
          "name": "stdout",
          "output_type": "stream",
          "text": [
            "على الفطرة السليمه.. الله يعطيه الصحة والعافية 😂 سكر الطبلون .. واللحق على الباب لا يقفله\n"
          ]
        }
      ],
      "source": [
        "tweet = df.iloc[1]['sentence']\n",
        "\n",
        "\n",
        "print(tweet)"
      ]
    },
    {
      "cell_type": "code",
      "execution_count": null,
      "metadata": {
        "id": "SgumsN3AW57y"
      },
      "outputs": [],
      "source": [
        "import csv\n",
        "\n",
        "# Define the cleaning functions\n",
        "# ...\n",
        "\n",
        "# Open the input and output CSV files\n",
        "with open('output.csv', 'r', encoding='utf-8') as f_input, \\\n",
        "        open('output2.csv', 'w', newline='', encoding='utf-8') as f_output:\n",
        "    # Define the CSV reader and writer objects\n",
        "    csv_reader = csv.reader(f_input)\n",
        "    csv_writer = csv.writer(f_output)\n",
        "    \n",
        "    # Read the header row and add a new 'cleaned_tweet' column\n",
        "    header = next(csv_reader)\n",
        "    header.append('cleaned_tweet')\n",
        "    csv_writer.writerow(header)\n",
        "    \n",
        "    # Loop over each row in the input CSV file\n",
        "    for row in csv_reader:\n",
        "        # Get the tweet text from the row\n",
        "         tweet = row[0]\n",
        "        \n",
        "        # Clean the tweet text using the cleaning functions\n",
        "         tweet = clean_tweet(tweet)\n",
        "         tweet = clean_tweet2(tweet)\n",
        "         tweet = remove_emojis(tweet)\n",
        "         tokens = tokenize_tweet(tweet)\n",
        "         no_punct_tokens = remove_punctuation(tokens)\n",
        "         no_stopword_tokens = remove_stopwords(no_punct_tokens, '/content/list.txt')\n",
        "         x = stem_tokens(no_stopword_tokens)\n",
        "         cleaned_tweet = ' '.join(x)\n",
        "        \n",
        "        # Add the cleaned tweet text to the row\n",
        "         row.append(cleaned_tweet)\n",
        "        \n",
        "        # Write the updated row to the output CSV file\n",
        "         csv_writer.writerow(row)\n"
      ]
    },
    {
      "cell_type": "code",
      "execution_count": null,
      "metadata": {
        "id": "sxUlP9uNcHt7"
      },
      "outputs": [],
      "source": [
        "def stem_tokens(tokens):\n",
        " \n",
        "    stemmer = ISRIStemmer()\n",
        "   \n",
        "    exclude_list = ['قلب', 'رحمة', 'أمل', 'حزن', 'سعادة', 'جمال', 'شجاعة', 'تفاؤل', 'يقين', 'تضامن',\n",
        "                    'حرية', 'عدالة', 'إنسانية', 'عزيمة', 'وفاء', 'إخلاص', 'صدق', 'شفاء', 'دعاء', 'الله']\n",
        "    \n",
        "    stemmed_tokens = []\n",
        "    for token in tokens:\n",
        "        if isinstance(token, str):\n",
        "            stemmed_token = stemmer.stem(token) if token not in exclude_list else token\n",
        "            stemmed_tokens.append(stemmed_token)\n",
        "        else:\n",
        "            stemmed_tokens.append(str(token))\n",
        "    return stemmed_tokens\n"
      ]
    },
    {
      "cell_type": "code",
      "execution_count": null,
      "metadata": {
        "colab": {
          "base_uri": "https://localhost:8080/",
          "height": 471
        },
        "id": "oulw3f9XdAC_",
        "outputId": "eedac419-b68d-406d-ac68-0f727de3db83"
      },
      "outputs": [
        {
          "data": {
            "image/png": "[encoded data removed]",
            "text/plain": [
              "<Figure size 640x480 with 1 Axes>"
            ]
          },
          "metadata": {},
          "output_type": "display_data"
        }
      ],
      "source": [
        "df = pd.read_csv(\"output2.csv\")\n",
        "df = df.dropna(subset=[\"cleaned_tweet\"])\n",
        "df[\"cleaned_tweet\"] = df[\"cleaned_tweet\"].astype(str)\n",
        "num_distinct_words = len(set(\" \".join(df[\"cleaned_tweet\"]).split()))\n",
        "tweet_lengths = df[\"cleaned_tweet\"].apply(len)\n",
        "word_counts = Counter(\" \".join(df[\"cleaned_tweet\"]).split())\n",
        "most_common_words = [word for word, count in word_counts.most_common(10)]\n",
        "most_common_words \n",
        "\n",
        "# # Plot tweet length histogram\n",
        "# plt.hist(tweet_lengths, bins=50)\n",
        "# plt.title(\"Distribution of tweet lengths\")\n",
        "# plt.xlabel(\"Tweet length (characters)\")\n",
        "# plt.ylabel(\"Frequency\")\n",
        "# plt.show()\n",
        "\n",
        "# Plot most common words bar chart\n",
        "plt.bar(np.arange(len(most_common_words)), [word_counts[word] for word in most_common_words])\n",
        "plt.xticks(np.arange(len(most_common_words)), most_common_words)\n",
        "plt.title(\"Most common words in tweets\")\n",
        "plt.xlabel(\"Word\")\n",
        "plt.ylabel(\"Frequency\")\n",
        "plt.show()"
      ]
    },
    {
      "cell_type": "code",
      "execution_count": null,
      "metadata": {
        "colab": {
          "base_uri": "https://localhost:8080/",
          "height": 471
        },
        "id": "IehNwXqgfZLO",
        "outputId": "dfe40ea2-0334-40a9-9193-21f7f679ca7e"
      },
      "outputs": [
        {
          "data": {
            "image/png": "[encoded data removed]",
            "text/plain": [
              "<Figure size 640x480 with 1 Axes>"
            ]
          },
          "metadata": {},
          "output_type": "display_data"
        }
      ],
      "source": [
        "import pandas as pd\n",
        "import numpy as np\n",
        "from collections import Counter\n",
        "import matplotlib.pyplot as plt\n",
        "\n",
        "\n",
        "\n",
        "\n",
        "# Read CSV file\n",
        "df = pd.read_csv(\"output2.csv\")\n",
        "\n",
        "# Remove NaN values and convert cleaned_tweet to string\n",
        "df = df.dropna(subset=[\"cleaned_tweet\"])\n",
        "df[\"cleaned_tweet\"] = df[\"cleaned_tweet\"].astype(str)\n",
        "# mpl.rcParams['font.family'] = 'Amiri'\n",
        "# Count number of distinct words\n",
        "num_distinct_words = len(set(\" \".join(df[\"cleaned_tweet\"]).split()))\n",
        "\n",
        "# Calculate tweet lengths\n",
        "tweet_lengths = df[\"cleaned_tweet\"].apply(len)\n",
        "\n",
        "# Count word occurrences\n",
        "word_counts = Counter(\" \".join(df[\"cleaned_tweet\"]).split())\n",
        "\n",
        "# Get 10 most common words\n",
        "most_common_words = [word for word, count in word_counts.most_common(10)]\n",
        "# Plot tweet length histogram\n",
        "plt.hist(tweet_lengths, bins=50)\n",
        "plt.title(\"Distribution of tweet lengths\")\n",
        "plt.xlabel(\"Tweet length (characters)\")\n",
        "plt.ylabel(\"Frequency\")\n",
        "plt.show()\n",
        "\n"
      ]
    },
    {
      "cell_type": "code",
      "execution_count": null,
      "metadata": {
        "colab": {
          "base_uri": "https://localhost:8080/",
          "height": 535
        },
        "id": "d0NJ9zmdiDb1",
        "outputId": "fd585327-e53c-4ebd-b87e-f59540220bdb"
      },
      "outputs": [
        {
          "name": "stderr",
          "output_type": "stream",
          "text": [
            "/usr/local/lib/python3.10/dist-packages/IPython/core/pylabtools.py:151: UserWarning: Glyph 65010 (\\N{ARABIC LIGATURE ALLAH ISOLATED FORM}) missing from current font.\n",
            "  fig.canvas.print_figure(bytes_io, **kw)\n"
          ]
        },
        {
          "data": {
            "image/png": "[encoded data removed]",
            "text/plain": [
              "<Figure size 640x480 with 1 Axes>"
            ]
          },
          "metadata": {},
          "output_type": "display_data"
        }
      ],
      "source": [
        "import matplotlib.pyplot as plt\n",
        "import numpy as np\n",
        "import arabic_reshaper\n",
        "from bidi.algorithm import get_display\n",
        "from collections import Counter\n",
        "\n",
        "# Set Arabic font for plot\n",
        "plt.rcParams['font.family'] = 'DejaVu Sans'\n",
        "\n",
        "# Load data and clean tweets\n",
        "df = pd.read_csv(\"output2.csv\")\n",
        "df = df.dropna(subset=[\"cleaned_tweet\"])\n",
        "df[\"cleaned_tweet\"] = df[\"cleaned_tweet\"].astype(str)\n",
        "\n",
        "# Count distinct words, tweet lengths, and most common words\n",
        "num_distinct_words = len(set(\" \".join(df[\"cleaned_tweet\"]).split()))\n",
        "tweet_lengths = df[\"cleaned_tweet\"].apply(len)\n",
        "word_counts = Counter(\" \".join(df[\"cleaned_tweet\"]).split())\n",
        "most_common_words = [word for word, count in word_counts.most_common(11)]\n",
        "\n",
        "# Reshape Arabic words for plot\n",
        "most_common_words_reshaped = [get_display(arabic_reshaper.reshape(word)) for word in most_common_words]\n",
        "\n",
        "# Plot most common words bar chart\n",
        "plt.bar(np.arange(len(most_common_words)), [word_counts[word] for word in most_common_words])\n",
        "plt.xticks(np.arange(len(most_common_words)), most_common_words_reshaped, rotation=90)\n",
        "plt.title(\"Most common words in tweets\")\n",
        "plt.xlabel(\"Word\")\n",
        "plt.ylabel(\"Frequency\")\n",
        "plt.show()\n"
      ]
    },
    {
      "cell_type": "code",
      "execution_count": null,
      "metadata": {
        "colab": {
          "base_uri": "https://localhost:8080/"
        },
        "id": "NeDHfiyoieey",
        "outputId": "967b770f-8de4-4be3-f342-d302b2288344"
      },
      "outputs": [
        {
          "name": "stdout",
          "output_type": "stream",
          "text": [
            "Looking in indexes: https://pypi.org/simple, https://us-python.pkg.dev/colab-wheels/public/simple/\n",
            "Collecting python-bidi\n",
            "  Downloading python_bidi-0.4.2-py2.py3-none-any.whl (30 kB)\n",
            "Requirement already satisfied: six in /usr/local/lib/python3.10/dist-packages (from python-bidi) (1.16.0)\n",
            "Installing collected packages: python-bidi\n",
            "Successfully installed python-bidi-0.4.2\n"
          ]
        }
      ],
      "source": [
        "pip install python-bidi\n"
      ]
    },
    {
      "cell_type": "code",
      "execution_count": null,
      "metadata": {
        "colab": {
          "base_uri": "https://localhost:8080/"
        },
        "id": "zdItYnheiV4m",
        "outputId": "b7f0ec90-89db-41fe-b967-cdb38ae3ac73"
      },
      "outputs": [
        {
          "name": "stdout",
          "output_type": "stream",
          "text": [
            "Looking in indexes: https://pypi.org/simple, https://us-python.pkg.dev/colab-wheels/public/simple/\n",
            "Collecting arabic-reshaper\n",
            "  Downloading arabic_reshaper-3.0.0-py3-none-any.whl (20 kB)\n",
            "Installing collected packages: arabic-reshaper\n",
            "Successfully installed arabic-reshaper-3.0.0\n"
          ]
        }
      ],
      "source": [
        "!pip install arabic-reshaper\n"
      ]
    },
    {
      "cell_type": "code",
      "execution_count": null,
      "metadata": {
        "id": "W6JFoWORec9h"
      },
      "outputs": [],
      "source": [
        "import pandas as pd\n",
        "import numpy as np\n",
        "import re\n",
        "import matplotlib.pyplot as plt\n",
        "from collections import Counter"
      ]
    },
    {
      "cell_type": "code",
      "execution_count": null,
      "metadata": {
        "colab": {
          "base_uri": "https://localhost:8080/",
          "height": 201
        },
        "id": "dtM0t-Iqb7QM",
        "outputId": "6386c7d6-0c3e-4e45-aa7c-85ef25d259f5"
      },
      "outputs": [
        {
          "data": {
            "text/html": [
              "\n",
              "  <div id=\"df-25aee3dd-c32a-4d2c-9ef5-67792faa9fe5\">\n",
              "    <div class=\"colab-df-container\">\n",
              "      <div>\n",
              "<style scoped>\n",
              "    .dataframe tbody tr th:only-of-type {\n",
              "        vertical-align: middle;\n",
              "    }\n",
              "\n",
              "    .dataframe tbody tr th {\n",
              "        vertical-align: top;\n",
              "    }\n",
              "\n",
              "    .dataframe thead th {\n",
              "        text-align: right;\n",
              "    }\n",
              "</style>\n",
              "<table border=\"1\" class=\"dataframe\">\n",
              "  <thead>\n",
              "    <tr style=\"text-align: right;\">\n",
              "      <th></th>\n",
              "      <th>sentence</th>\n",
              "      <th>sentiment</th>\n",
              "      <th>cleaned_tweet</th>\n",
              "    </tr>\n",
              "  </thead>\n",
              "  <tbody>\n",
              "    <tr>\n",
              "      <th>0</th>\n",
              "      <td>دامك مع #غناتي ، فالك طيب 👍</td>\n",
              "      <td>positive</td>\n",
              "      <td>دمك غنت فلك طيب</td>\n",
              "    </tr>\n",
              "    <tr>\n",
              "      <th>1</th>\n",
              "      <td>على الفطرة السليمه.. الله يعطيه الصحة والعافية...</td>\n",
              "      <td>positive</td>\n",
              "      <td>فطر سلم الله يعط صحه عفي سكر طبل لحق باب قفل</td>\n",
              "    </tr>\n",
              "    <tr>\n",
              "      <th>2</th>\n",
              "      <td>📷 مشجع هلالي ينبذ العنصرية ب لافته أعدها.</td>\n",
              "      <td>positive</td>\n",
              "      <td>شجع هلل نبذ عنصر لفت اعد</td>\n",
              "    </tr>\n",
              "    <tr>\n",
              "      <th>3</th>\n",
              "      <td>سبحان الله🌸 الحمدلله 💮 لا اله الا الله 🌿 الله ...</td>\n",
              "      <td>positive</td>\n",
              "      <td>الله حمدلل اله الله الله كبر غفر الله وتب الله...</td>\n",
              "    </tr>\n",
              "    <tr>\n",
              "      <th>4</th>\n",
              "      <td>مشاركتي في مبادراتكم الجميلة فوز وسعادة 💞</td>\n",
              "      <td>positive</td>\n",
              "      <td>شرك بدر جمل فوز سعد</td>\n",
              "    </tr>\n",
              "  </tbody>\n",
              "</table>\n",
              "</div>\n",
              "      <button class=\"colab-df-convert\" onclick=\"convertToInteractive('df-25aee3dd-c32a-4d2c-9ef5-67792faa9fe5')\"\n",
              "              title=\"Convert this dataframe to an interactive table.\"\n",
              "              style=\"display:none;\">\n",
              "        \n",
              "  <svg xmlns=\"http://www.w3.org/2000/svg\" height=\"24px\"viewBox=\"0 0 24 24\"\n",
              "       width=\"24px\">\n",
              "    <path d=\"M0 0h24v24H0V0z\" fill=\"none\"/>\n",
              "    <path d=\"M18.56 5.44l.94 2.06.94-2.06 2.06-.94-2.06-.94-.94-2.06-.94 2.06-2.06.94zm-11 1L8.5 8.5l.94-2.06 2.06-.94-2.06-.94L8.5 2.5l-.94 2.06-2.06.94zm10 10l.94 2.06.94-2.06 2.06-.94-2.06-.94-.94-2.06-.94 2.06-2.06.94z\"/><path d=\"M17.41 7.96l-1.37-1.37c-.4-.4-.92-.59-1.43-.59-.52 0-1.04.2-1.43.59L10.3 9.45l-7.72 7.72c-.78.78-.78 2.05 0 2.83L4 21.41c.39.39.9.59 1.41.59.51 0 1.02-.2 1.41-.59l7.78-7.78 2.81-2.81c.8-.78.8-2.07 0-2.86zM5.41 20L4 18.59l7.72-7.72 1.47 1.35L5.41 20z\"/>\n",
              "  </svg>\n",
              "      </button>\n",
              "      \n",
              "  <style>\n",
              "    .colab-df-container {\n",
              "      display:flex;\n",
              "      flex-wrap:wrap;\n",
              "      gap: 12px;\n",
              "    }\n",
              "\n",
              "    .colab-df-convert {\n",
              "      background-color: #E8F0FE;\n",
              "      border: none;\n",
              "      border-radius: 50%;\n",
              "      cursor: pointer;\n",
              "      display: none;\n",
              "      fill: #1967D2;\n",
              "      height: 32px;\n",
              "      padding: 0 0 0 0;\n",
              "      width: 32px;\n",
              "    }\n",
              "\n",
              "    .colab-df-convert:hover {\n",
              "      background-color: #E2EBFA;\n",
              "      box-shadow: 0px 1px 2px rgba(60, 64, 67, 0.3), 0px 1px 3px 1px rgba(60, 64, 67, 0.15);\n",
              "      fill: #174EA6;\n",
              "    }\n",
              "\n",
              "    [theme=dark] .colab-df-convert {\n",
              "      background-color: #3B4455;\n",
              "      fill: #D2E3FC;\n",
              "    }\n",
              "\n",
              "    [theme=dark] .colab-df-convert:hover {\n",
              "      background-color: #434B5C;\n",
              "      box-shadow: 0px 1px 3px 1px rgba(0, 0, 0, 0.15);\n",
              "      filter: drop-shadow(0px 1px 2px rgba(0, 0, 0, 0.3));\n",
              "      fill: #FFFFFF;\n",
              "    }\n",
              "  </style>\n",
              "\n",
              "      <script>\n",
              "        const buttonEl =\n",
              "          document.querySelector('#df-25aee3dd-c32a-4d2c-9ef5-67792faa9fe5 button.colab-df-convert');\n",
              "        buttonEl.style.display =\n",
              "          google.colab.kernel.accessAllowed ? 'block' : 'none';\n",
              "\n",
              "        async function convertToInteractive(key) {\n",
              "          const element = document.querySelector('#df-25aee3dd-c32a-4d2c-9ef5-67792faa9fe5');\n",
              "          const dataTable =\n",
              "            await google.colab.kernel.invokeFunction('convertToInteractive',\n",
              "                                                     [key], {});\n",
              "          if (!dataTable) return;\n",
              "\n",
              "          const docLinkHtml = 'Like what you see? Visit the ' +\n",
              "            '<a target=\"_blank\" href=https://colab.research.google.com/notebooks/data_table.ipynb>data table notebook</a>'\n",
              "            + ' to learn more about interactive tables.';\n",
              "          element.innerHTML = '';\n",
              "          dataTable['output_type'] = 'display_data';\n",
              "          await google.colab.output.renderOutput(dataTable, element);\n",
              "          const docLink = document.createElement('div');\n",
              "          docLink.innerHTML = docLinkHtml;\n",
              "          element.appendChild(docLink);\n",
              "        }\n",
              "      </script>\n",
              "    </div>\n",
              "  </div>\n",
              "  "
            ],
            "text/plain": [
              "                                            sentence sentiment  \\\n",
              "0                        دامك مع #غناتي ، فالك طيب 👍  positive   \n",
              "1  على الفطرة السليمه.. الله يعطيه الصحة والعافية...  positive   \n",
              "2          📷 مشجع هلالي ينبذ العنصرية ب لافته أعدها.  positive   \n",
              "3  سبحان الله🌸 الحمدلله 💮 لا اله الا الله 🌿 الله ...  positive   \n",
              "4          مشاركتي في مبادراتكم الجميلة فوز وسعادة 💞  positive   \n",
              "\n",
              "                                       cleaned_tweet  \n",
              "0                                    دمك غنت فلك طيب  \n",
              "1       فطر سلم الله يعط صحه عفي سكر طبل لحق باب قفل  \n",
              "2                           شجع هلل نبذ عنصر لفت اعد  \n",
              "3  الله حمدلل اله الله الله كبر غفر الله وتب الله...  \n",
              "4                                شرك بدر جمل فوز سعد  "
            ]
          },
          "execution_count": 28,
          "metadata": {},
          "output_type": "execute_result"
        }
      ],
      "source": [
        "df = pd.read_csv(\"/content/output2.csv\")\n",
        "df.head()"
      ]
    },
    {
      "cell_type": "code",
      "execution_count": null,
      "metadata": {
        "colab": {
          "base_uri": "https://localhost:8080/",
          "height": 1000
        },
        "id": "fZcRMMQsjoMa",
        "outputId": "359ab677-9fdf-492c-df41-739e8eb0d23f"
      },
      "outputs": [
        {
          "name": "stderr",
          "output_type": "stream",
          "text": [
            "WARNING:matplotlib.font_manager:findfont: Font family 'Scheherazade' not found.\n",
            "WARNING:matplotlib.font_manager:findfont: Font family 'Scheherazade' not found.\n",
            "WARNING:matplotlib.font_manager:findfont: Font family 'Scheherazade' not found.\n",
            "WARNING:matplotlib.font_manager:findfont: Font family 'Scheherazade' not found.\n",
            "WARNING:matplotlib.font_manager:findfont: Font family 'Scheherazade' not found.\n",
            "WARNING:matplotlib.font_manager:findfont: Font family 'Scheherazade' not found.\n",
            "WARNING:matplotlib.font_manager:findfont: Font family 'Scheherazade' not found.\n",
            "WARNING:matplotlib.font_manager:findfont: Font family 'Scheherazade' not found.\n",
            "WARNING:matplotlib.font_manager:findfont: Font family 'Scheherazade' not found.\n",
            "WARNING:matplotlib.font_manager:findfont: Font family 'Scheherazade' not found.\n",
            "WARNING:matplotlib.font_manager:findfont: Font family 'Scheherazade' not found.\n",
            "WARNING:matplotlib.font_manager:findfont: Font family 'Scheherazade' not found.\n",
            "WARNING:matplotlib.font_manager:findfont: Font family 'Scheherazade' not found.\n",
            "WARNING:matplotlib.font_manager:findfont: Font family 'Scheherazade' not found.\n",
            "/usr/local/lib/python3.10/dist-packages/IPython/core/pylabtools.py:151: UserWarning: Glyph 65010 (\\N{ARABIC LIGATURE ALLAH ISOLATED FORM}) missing from current font.\n",
            "  fig.canvas.print_figure(bytes_io, **kw)\n",
            "WARNING:matplotlib.font_manager:findfont: Font family 'Scheherazade' not found.\n",
            "WARNING:matplotlib.font_manager:findfont: Font family 'Scheherazade' not found.\n",
            "WARNING:matplotlib.font_manager:findfont: Font family 'Scheherazade' not found.\n",
            "WARNING:matplotlib.font_manager:findfont: Font family 'Scheherazade' not found.\n",
            "WARNING:matplotlib.font_manager:findfont: Font family 'Scheherazade' not found.\n",
            "WARNING:matplotlib.font_manager:findfont: Font family 'Scheherazade' not found.\n",
            "WARNING:matplotlib.font_manager:findfont: Font family 'Scheherazade' not found.\n",
            "WARNING:matplotlib.font_manager:findfont: Font family 'Scheherazade' not found.\n",
            "WARNING:matplotlib.font_manager:findfont: Font family 'Scheherazade' not found.\n",
            "WARNING:matplotlib.font_manager:findfont: Font family 'Scheherazade' not found.\n",
            "WARNING:matplotlib.font_manager:findfont: Font family 'Scheherazade' not found.\n",
            "WARNING:matplotlib.font_manager:findfont: Font family 'Scheherazade' not found.\n",
            "WARNING:matplotlib.font_manager:findfont: Font family 'Scheherazade' not found.\n",
            "WARNING:matplotlib.font_manager:findfont: Font family 'Scheherazade' not found.\n",
            "WARNING:matplotlib.font_manager:findfont: Font family 'Scheherazade' not found.\n",
            "WARNING:matplotlib.font_manager:findfont: Font family 'Scheherazade' not found.\n",
            "WARNING:matplotlib.font_manager:findfont: Font family 'Scheherazade' not found.\n",
            "WARNING:matplotlib.font_manager:findfont: Font family 'Scheherazade' not found.\n",
            "WARNING:matplotlib.font_manager:findfont: Font family 'Scheherazade' not found.\n",
            "WARNING:matplotlib.font_manager:findfont: Font family 'Scheherazade' not found.\n",
            "WARNING:matplotlib.font_manager:findfont: Font family 'Scheherazade' not found.\n",
            "WARNING:matplotlib.font_manager:findfont: Font family 'Scheherazade' not found.\n",
            "WARNING:matplotlib.font_manager:findfont: Font family 'Scheherazade' not found.\n",
            "WARNING:matplotlib.font_manager:findfont: Font family 'Scheherazade' not found.\n",
            "WARNING:matplotlib.font_manager:findfont: Font family 'Scheherazade' not found.\n",
            "WARNING:matplotlib.font_manager:findfont: Font family 'Scheherazade' not found.\n",
            "WARNING:matplotlib.font_manager:findfont: Font family 'Scheherazade' not found.\n",
            "WARNING:matplotlib.font_manager:findfont: Font family 'Scheherazade' not found.\n",
            "WARNING:matplotlib.font_manager:findfont: Font family 'Scheherazade' not found.\n",
            "WARNING:matplotlib.font_manager:findfont: Font family 'Scheherazade' not found.\n",
            "WARNING:matplotlib.font_manager:findfont: Font family 'Scheherazade' not found.\n",
            "WARNING:matplotlib.font_manager:findfont: Font family 'Scheherazade' not found.\n",
            "WARNING:matplotlib.font_manager:findfont: Font family 'Scheherazade' not found.\n",
            "WARNING:matplotlib.font_manager:findfont: Font family 'Scheherazade' not found.\n",
            "WARNING:matplotlib.font_manager:findfont: Font family 'Scheherazade' not found.\n",
            "WARNING:matplotlib.font_manager:findfont: Font family 'Scheherazade' not found.\n",
            "WARNING:matplotlib.font_manager:findfont: Font family 'Scheherazade' not found.\n",
            "WARNING:matplotlib.font_manager:findfont: Font family 'Scheherazade' not found.\n",
            "WARNING:matplotlib.font_manager:findfont: Font family 'Scheherazade' not found.\n",
            "WARNING:matplotlib.font_manager:findfont: Font family 'Scheherazade' not found.\n",
            "WARNING:matplotlib.font_manager:findfont: Font family 'Scheherazade' not found.\n",
            "WARNING:matplotlib.font_manager:findfont: Font family 'Scheherazade' not found.\n",
            "WARNING:matplotlib.font_manager:findfont: Font family 'Scheherazade' not found.\n",
            "WARNING:matplotlib.font_manager:findfont: Font family 'Scheherazade' not found.\n",
            "WARNING:matplotlib.font_manager:findfont: Font family 'Scheherazade' not found.\n",
            "WARNING:matplotlib.font_manager:findfont: Font family 'Scheherazade' not found.\n",
            "WARNING:matplotlib.font_manager:findfont: Font family 'Scheherazade' not found.\n",
            "WARNING:matplotlib.font_manager:findfont: Font family 'Scheherazade' not found.\n",
            "WARNING:matplotlib.font_manager:findfont: Font family 'Scheherazade' not found.\n",
            "WARNING:matplotlib.font_manager:findfont: Font family 'Scheherazade' not found.\n",
            "WARNING:matplotlib.font_manager:findfont: Font family 'Scheherazade' not found.\n",
            "WARNING:matplotlib.font_manager:findfont: Font family 'Scheherazade' not found.\n",
            "WARNING:matplotlib.font_manager:findfont: Font family 'Scheherazade' not found.\n",
            "WARNING:matplotlib.font_manager:findfont: Font family 'Scheherazade' not found.\n",
            "WARNING:matplotlib.font_manager:findfont: Font family 'Scheherazade' not found.\n",
            "WARNING:matplotlib.font_manager:findfont: Font family 'Scheherazade' not found.\n"
          ]
        },
        {
          "data": {
            "image/png": "[encoded data removed]",
            "text/plain": [
              "<Figure size 640x480 with 1 Axes>"
            ]
          },
          "metadata": {},
          "output_type": "display_data"
        }
      ],
      "source": [
        "import matplotlib.pyplot as plt\n",
        "from bidi.algorithm import get_display\n",
        "import arabic_reshaper\n",
        "from collections import Counter\n",
        "import pandas as pd\n",
        "import numpy as np\n",
        "\n",
        "# Read data\n",
        "df = pd.read_csv(\"output2.csv\")\n",
        "df = df.dropna(subset=[\"cleaned_tweet\"])\n",
        "df[\"cleaned_tweet\"] = df[\"cleaned_tweet\"].astype(str)\n",
        "\n",
        "# Reshape Arabic text for proper display\n",
        "df[\"cleaned_tweet\"] = df[\"cleaned_tweet\"].apply(arabic_reshaper.reshape)\n",
        "df[\"cleaned_tweet\"] = df[\"cleaned_tweet\"].apply(get_display)\n",
        "\n",
        "# Compute number of distinct words, tweet lengths, and word counts\n",
        "num_distinct_words = len(set(\" \".join(df[\"cleaned_tweet\"]).split()))\n",
        "tweet_lengths = df[\"cleaned_tweet\"].apply(len)\n",
        "word_counts = Counter(\" \".join(df[\"cleaned_tweet\"]).split())\n",
        "most_common_words = [word for word, count in word_counts.most_common(10)]\n",
        "\n",
        "# Set the font to Amiri\n",
        "# plt.rcParams[\"font.family\"] = \"Amiri\"\n",
        "\n",
        "\n",
        "# Plot most common words bar chart\n",
        "plt.bar(np.arange(len(most_common_words)), [word_counts[word] for word in most_common_words])\n",
        "plt.xticks(np.arange(len(most_common_words)), [arabic_reshaper.reshape(word) for word in most_common_words])\n",
        "plt.title(arabic_reshaper.reshape(\"Most common words in tweets\"))\n",
        "plt.xlabel(arabic_reshaper.reshape(\"Word\"))\n",
        "plt.ylabel(arabic_reshaper.reshape(\"Frequency\"))\n",
        "plt.show()\n"
      ]
    },
    {
      "cell_type": "code",
      "execution_count": null,
      "metadata": {
        "colab": {
          "base_uri": "https://localhost:8080/"
        },
        "id": "5gQT9RyJnat0",
        "outputId": "dcc31170-b08f-45a2-ecdd-105dae403900"
      },
      "outputs": [
        {
          "name": "stdout",
          "output_type": "stream",
          "text": [
            "['ﷲ', 'ﺐﻠﻗ', 'ﺎﻳ', 'ﻢﻬﻟ', 'ﻞﻠﻫ', 'ﺮﻴﺧ', 'ﺎﻧﺍ', 'ﻢﻠﻋ', 'ﺢﺒﺻ', 'ﺲﺑ']\n"
          ]
        }
      ],
      "source": [
        "import matplotlib.pyplot as plt\n",
        "from bidi.algorithm import get_display\n",
        "import arabic_reshaper\n",
        "from collections import Counter\n",
        "import pandas as pd\n",
        "import numpy as np\n",
        "\n",
        "\n",
        "df = pd.read_csv(\"output2.csv\")\n",
        "df = df.dropna(subset=[\"cleaned_tweet\"])\n",
        "df[\"cleaned_tweet\"] = df[\"cleaned_tweet\"].astype(str)\n",
        "\n",
        "# Reshape Arabic text for proper display\n",
        "df[\"cleaned_tweet\"] = df[\"cleaned_tweet\"].apply(arabic_reshaper.reshape)\n",
        "df[\"cleaned_tweet\"] = df[\"cleaned_tweet\"].apply(get_display)\n",
        "\n",
        "\n",
        "num_distinct_words = len(set(\" \".join(df[\"cleaned_tweet\"]).split()))\n",
        "tweet_lengths = df[\"cleaned_tweet\"].apply(len)\n",
        "word_counts = Counter(\" \".join(df[\"cleaned_tweet\"]).split())\n",
        "most_common_words = [word for word, count in word_counts.most_common(10)]\n",
        "print(most_common_words)"
      ]
    },
    {
      "cell_type": "code",
      "execution_count": null,
      "metadata": {
        "id": "X_5VldTl0Rdr"
      },
      "outputs": [],
      "source": [
        "import matplotlib.font_manager as fm\n",
        "\n",
        "font_path = \"/content/Amiri-Regular.ttf\"  \n",
        "fm.fontManager.addfont(font_path)\n"
      ]
    },
    {
      "cell_type": "code",
      "execution_count": null,
      "metadata": {
        "colab": {
          "base_uri": "https://localhost:8080/",
          "height": 470
        },
        "id": "xVf50n_I0by3",
        "outputId": "4d3ff67f-7d6e-4ccb-c50a-39f96d2145cb"
      },
      "outputs": [
        {
          "data": {
            "image/png": "[encoded data removed]",
            "text/plain": [
              "<Figure size 640x480 with 1 Axes>"
            ]
          },
          "metadata": {},
          "output_type": "display_data"
        }
      ],
      "source": [
        "import matplotlib.pyplot as plt\n",
        "from bidi.algorithm import get_display\n",
        "import arabic_reshaper\n",
        "from collections import Counter\n",
        "import pandas as pd\n",
        "import numpy as np\n",
        "\n",
        "# Read data\n",
        "df = pd.read_csv(\"output2.csv\")\n",
        "df = df.dropna(subset=[\"cleaned_tweet\"])\n",
        "df[\"cleaned_tweet\"] = df[\"cleaned_tweet\"].astype(str)\n",
        "\n",
        "# Reshape Arabic text for proper display\n",
        "df[\"cleaned_tweet\"] = df[\"cleaned_tweet\"].apply(arabic_reshaper.reshape)\n",
        "df[\"cleaned_tweet\"] = df[\"cleaned_tweet\"].apply(get_display)\n",
        "\n",
        "# Compute number of distinct words, tweet lengths, and word counts\n",
        "num_distinct_words = len(set(\" \".join(df[\"cleaned_tweet\"]).split()))\n",
        "tweet_lengths = df[\"cleaned_tweet\"].apply(len)\n",
        "word_counts = Counter(\" \".join(df[\"cleaned_tweet\"]).split())\n",
        "most_common_words = [word for word, count in word_counts.most_common(10)]\n",
        "\n",
        "# Set the font to Amiri\n",
        "plt.rcParams[\"font.family\"] = \"Amiri\"\n",
        "\n",
        "\n",
        "# Plot most common words bar chart\n",
        "plt.bar(np.arange(len(most_common_words)), [word_counts[word] for word in most_common_words])\n",
        "plt.xticks(np.arange(len(most_common_words)), [arabic_reshaper.reshape(word) for word in most_common_words])\n",
        "plt.title(arabic_reshaper.reshape(\"Most common words in tweets\"))\n",
        "plt.xlabel(arabic_reshaper.reshape(\"Word\"))\n",
        "plt.ylabel(arabic_reshaper.reshape(\"Frequency\"))\n",
        "plt.show()"
      ]
    }
  ],
  "metadata": {
    "colab": {
      "provenance": []
    },
    "kernelspec": {
      "display_name": "Python 3",
      "name": "python3"
    },
    "language_info": {
      "name": "python"
    }
  },
  "nbformat": 4,
  "nbformat_minor": 0
}
